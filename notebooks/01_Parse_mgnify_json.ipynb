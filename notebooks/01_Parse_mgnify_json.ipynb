{
 "cells": [
  {
   "cell_type": "code",
   "execution_count": 43,
   "id": "e50a229c-bd8f-459a-a5e6-c048863d1bfb",
   "metadata": {},
   "outputs": [],
   "source": [
    "import pandas as pd\n",
    "import altair as alt\n",
    "import numpy as np\n",
    "from jsonapi_client import Session, Modifier\n",
    "from jsonapi_client.exceptions import DocumentError\n",
    "from pathlib import Path\n",
    "import json\n",
    "import requests"
   ]
  },
  {
   "cell_type": "code",
   "execution_count": null,
   "id": "2b964ea1-9574-4e17-89cf-d86854ae7ad8",
   "metadata": {},
   "outputs": [],
   "source": [
    "JSON_PATH = Path(\"../data/raw/63080F7C-11DE-11EF-8972-B537756F2D03.1.json\") #change this path accordingly\n",
    "\n",
    "with open(JSON_PATH, \"r\") as f:\n",
    "    result = json.load(f)"
   ]
  },
  {
   "cell_type": "code",
   "execution_count": null,
   "id": "90939b73-4953-4ad0-96f6-7f293b6ccbf8",
   "metadata": {},
   "outputs": [],
   "source": [
    "df_hits = pd.DataFrame.from_dict(result['results'][\"hits\"])\n",
    "df_hits"
   ]
  },
  {
   "cell_type": "code",
   "execution_count": null,
   "id": "0fc75893-6127-466e-b640-aaa35ad2a99b",
   "metadata": {},
   "outputs": [],
   "source": [
    "# Transform the 'evalue' column to log scale\n",
    "df_hits['evalue'] = pd.to_numeric(df_hits['evalue'])\n",
    "\n",
    "# Create a histogram\n",
    "chart = alt.Chart(df_hits).mark_bar().encode(\n",
    "    alt.X(\"evalue:Q\", bin=alt.Bin(maxbins=30)),  # Q means quantitative data\n",
    "    y='count()',  # Number of records in each bin\n",
    ")\n",
    "\n",
    "chart"
   ]
  },
  {
   "cell_type": "code",
   "execution_count": null,
   "id": "a65b3e5d",
   "metadata": {},
   "outputs": [],
   "source": [
    "result[\"results\"][\"hits\"][0]"
   ]
  },
  {
   "cell_type": "code",
   "execution_count": null,
   "id": "86872044-cd52-40ce-9831-50c59ab66e20",
   "metadata": {},
   "outputs": [],
   "source": [
    "\n",
    "\n",
    "hit_metadata = {}\n",
    "\n",
    "ctr = 0\n",
    "for num, item in enumerate(result[\"results\"][\"hits\"]):\n",
    "    peptide_name = item['name']\n",
    "    for hit_type in ['samples', 'runs']:\n",
    "        if item['mgnify'][hit_type] is not None:\n",
    "            acc_id = item['mgnify'][hit_type][0][0]\n",
    "            hit_metadata[ctr] = {\"accession\": acc_id, \"peptide_name\": peptide_name, \"hit_type\": hit_type}\n",
    "            ctr = ctr + 1\n",
    "            if hit_type == \"samples\":\n",
    "                break\n",
    "\n",
    "df_hits_metadata = pd.DataFrame.from_dict(hit_metadata).T\n",
    "df_hits_metadata.accession.value_counts()\n"
   ]
  },
  {
   "cell_type": "code",
   "execution_count": null,
   "id": "7930f98a",
   "metadata": {},
   "outputs": [],
   "source": [
    "def get_sample_endpoint(sample_id):\n",
    "    sample_endpoint = f'samples?accession={sample_id}'\n",
    "    with Session(\"https://www.ebi.ac.uk/metagenomics/api/v1\") as mgnify:\n",
    "        samples = map(lambda r: r.json, mgnify.iterate(sample_endpoint))\n",
    "        return samples\n",
    "\n",
    "sample_id = \"%2C\".join(df_hits_metadata[df_hits_metadata.hit_type == \"samples\"].accession.unique())\n",
    "print(f'https://www.ebi.ac.uk/metagenomics/api/v1/samples?accession={sample_id}')\n",
    "list(get_sample_endpoint(sample_id))"
   ]
  },
  {
   "cell_type": "code",
   "execution_count": 77,
   "id": "79f7054b-87f3-4524-9d3d-8d165235d1c0",
   "metadata": {},
   "outputs": [
    {
     "name": "stdout",
     "output_type": "stream",
     "text": [
      "https://www.ebi.ac.uk/metagenomics/api/v1/runs?accession=ERR1474574%2CSRR6231191%2CERR526022%2CERR1135178%2CERR1414273%2CERR525902%2CERR973872%2CERR1474565%2CERR525926%2CERR525885\n",
      "Error occurred with run_ids: ERR1474574, SRR6231191, ERR526022, ERR1135178, ERR1414273, ERR525902, ERR973872, ERR1474565, ERR525926, ERR525885.\n",
      "{'errors': [{'detail': 'Select a valid choice. ERR973872 is not one of the available choices.', 'status': '400', 'source': {'pointer': '/data/attributes/accession'}, 'code': 'invalid_choice'}]}\n"
     ]
    },
    {
     "ename": "AttributeError",
     "evalue": "'numpy.ndarray' object has no attribute 'drop'",
     "output_type": "error",
     "traceback": [
      "\u001b[0;31m---------------------------------------------------------------------------\u001b[0m",
      "\u001b[0;31mAttributeError\u001b[0m                            Traceback (most recent call last)",
      "Cell \u001b[0;32mIn[77], line 40\u001b[0m\n\u001b[1;32m     38\u001b[0m     \u001b[38;5;28;01mpass\u001b[39;00m\n\u001b[1;32m     39\u001b[0m \u001b[38;5;28;01melse\u001b[39;00m:\n\u001b[0;32m---> 40\u001b[0m     run_ids_chunk \u001b[38;5;241m=\u001b[39m \u001b[43mrun_ids_chunk\u001b[49m\u001b[38;5;241;43m.\u001b[39;49m\u001b[43mdrop\u001b[49m(result)\n\u001b[1;32m     41\u001b[0m     \u001b[38;5;28mprint\u001b[39m(run_ids_chunk)\n",
      "\u001b[0;31mAttributeError\u001b[0m: 'numpy.ndarray' object has no attribute 'drop'"
     ]
    }
   ],
   "source": [
    "from jsonapi_client import Session, Modifier\n",
    "\n",
    "def chunks(lst, n):\n",
    "    \"\"\"Yield successive n-sized chunks from lst.\"\"\"\n",
    "    for i in range(0, len(lst), n):\n",
    "        yield lst[i:i + n]\n",
    "\n",
    "def get_run_endpoint(run_ids):\n",
    "    run_ids_chunk = run_ids\n",
    "    if isinstance(run_ids, (list, np.ndarray)):\n",
    "        run_ids_chunk = \"%2C\".join(run_ids)\n",
    "    print(f'https://www.ebi.ac.uk/metagenomics/api/v1/runs?accession={run_ids_chunk}')\n",
    "    run_endpoint = f'runs?accession={run_ids_chunk}'\n",
    "    url_mgnify = \"https://www.ebi.ac.uk/metagenomics/api/v1\"\n",
    "    with Session(url_mgnify) as mgnify:\n",
    "        try:\n",
    "            runs = map(lambda r: r.json, mgnify.iterate(run_endpoint))\n",
    "            status = True\n",
    "            return list(runs), status\n",
    "        except DocumentError as e:\n",
    "            url = f'{url_mgnify}/runs?accession={run_ids_chunk}'\n",
    "            response = requests.get(url)\n",
    "            if response.status_code != 200:\n",
    "                print(f\"Error occurred with run_ids: {', '.join(run_ids)}.\")\n",
    "                print(response.json())\n",
    "                bad_acc = response.json()['errors'][0]['detail'].strip('Select a valid choice.').split()[0]\n",
    "                \n",
    "                status = False\n",
    "                return bad_acc, status\n",
    "\n",
    "run_ids = df_hits_metadata[df_hits_metadata.hit_type == \"runs\"].accession.unique()\n",
    "\n",
    "# Split run_ids into chunks of 100 and get runs for each chunk\n",
    "all_runs = []\n",
    "for run_ids_chunk in chunks(run_ids, 10):\n",
    "    result, status = get_run_endpoint(run_ids_chunk)\n",
    "    if status:\n",
    "        pass\n",
    "    else:\n",
    "        run_ids_chunk = run_ids_chunk[run_ids_chunk != result]\n",
    "\n",
    "        print(run_ids_chunk)"
   ]
  },
  {
   "cell_type": "code",
   "execution_count": 48,
   "id": "9fd57ce4-3e55-485f-b6b9-a4cb0c350824",
   "metadata": {},
   "outputs": [
    {
     "name": "stdout",
     "output_type": "stream",
     "text": [
      "https://www.ebi.ac.uk/metagenomics/api/v1/runs?accession=ERR1474574%2CSRR6231191%2CERR526022%2CERR1135178%2CERR1414273%2CERR525902%2CERR973872%2CERR1474565%2CERR525926%2CERR525885\n",
      "Error occurred with run_ids: ERR1474574%2CSRR6231191%2CERR526022%2CERR1135178%2CERR1414273%2CERR525902%2CERR973872%2CERR1474565%2CERR525926%2CERR525885. Error: {\"errors\":[{\"detail\":\"Select a valid choice. ERR973872 is not one of the available choices.\",\"status\":\"400\",\"source\":{\"pointer\":\"/data/attributes/accession\"},\"code\":\"invalid_choice\"}]}\n",
      "https://www.ebi.ac.uk/metagenomics/api/v1/runs?accession=SRR2081070%2CSRR4305420%2CERR1474580%2CERR1332590%2CERR1332594%2CERR537006%2CERR1620280%2CERR1190761%2CDRR042510%2CSRR6179360\n",
      "Error occurred with run_ids: SRR2081070%2CSRR4305420%2CERR1474580%2CERR1332590%2CERR1332594%2CERR537006%2CERR1620280%2CERR1190761%2CDRR042510%2CSRR6179360. Error: {\"errors\":[{\"detail\":\"Select a valid choice. ERR1332594 is not one of the available choices.\",\"status\":\"400\",\"source\":{\"pointer\":\"/data/attributes/accession\"},\"code\":\"invalid_choice\"}]}\n",
      "https://www.ebi.ac.uk/metagenomics/api/v1/runs?accession=SRR5214706%2CSRR6192418%2CSRR5024276%2CSRR3131804%2CSRR6193124%2CSRR1779134%2CSRR4408181%2CSRR4030052%2CERR414325%2CERR1305909\n",
      "Error occurred with run_ids: SRR5214706%2CSRR6192418%2CSRR5024276%2CSRR3131804%2CSRR6193124%2CSRR1779134%2CSRR4408181%2CSRR4030052%2CERR414325%2CERR1305909. Error: {\"errors\":[{\"detail\":\"Select a valid choice. SRR1779134 is not one of the available choices.\",\"status\":\"400\",\"source\":{\"pointer\":\"/data/attributes/accession\"},\"code\":\"invalid_choice\"}]}\n",
      "https://www.ebi.ac.uk/metagenomics/api/v1/runs?accession=ERR1578704%2CERR414500%2CSRR4305271%2CERR1620320%2CERR1578682%2CERR525748%2CERR414489%2CERR1578717%2CSRR1761701%2CERR1297759\n",
      "https://www.ebi.ac.uk/metagenomics/api/v1/runs?accession=ERR1190595%2CDRR042345%2CERR209782%2CERR1736738%2CERR1018221%2CERR1297753%2CERR982830%2CERR982833%2CSRR6201714%2CSRR5106500\n",
      "Error occurred with run_ids: ERR1190595%2CDRR042345%2CERR209782%2CERR1736738%2CERR1018221%2CERR1297753%2CERR982830%2CERR982833%2CSRR6201714%2CSRR5106500. Error: {\"errors\":[{\"detail\":\"Select a valid choice. ERR1190595 is not one of the available choices.\",\"status\":\"400\",\"source\":{\"pointer\":\"/data/attributes/accession\"},\"code\":\"invalid_choice\"}]}\n",
      "https://www.ebi.ac.uk/metagenomics/api/v1/runs?accession=ERR1681527%2CSRR6257470%2CSRR4408176%2CSRR6201716%2CERR414463%2CERR1293916%2CERR525979%2CERR982812%2CSRR5106499%2CERR414288\n",
      "Error occurred with run_ids: ERR1681527%2CSRR6257470%2CSRR4408176%2CSRR6201716%2CERR414463%2CERR1293916%2CERR525979%2CERR982812%2CSRR5106499%2CERR414288. Error: {\"errors\":[{\"detail\":\"Select a valid choice. ERR982812 is not one of the available choices.\",\"status\":\"400\",\"source\":{\"pointer\":\"/data/attributes/accession\"},\"code\":\"invalid_choice\"}]}\n",
      "https://www.ebi.ac.uk/metagenomics/api/v1/runs?accession=ERR209767%2CERR1297723%2CERR414389%2CERR1018274%2CERR1190702%2CSRR5032265%2CERR1543994%2CERR1474585%2CSRR5106474%2CERR1293616\n",
      "Error occurred with run_ids: ERR209767%2CERR1297723%2CERR414389%2CERR1018274%2CERR1190702%2CSRR5032265%2CERR1543994%2CERR1474585%2CSRR5106474%2CERR1293616. Error: {\"errors\":[{\"detail\":\"Select a valid choice. ERR1293616 is not one of the available choices.\",\"status\":\"400\",\"source\":{\"pointer\":\"/data/attributes/accession\"},\"code\":\"invalid_choice\"}]}\n",
      "https://www.ebi.ac.uk/metagenomics/api/v1/runs?accession=ERR414316%2CSRR1761702%2CERR525699%2CSRR5106489%2CERR527183%2CERR1307073%2CSRR1490973%2CSRR6179361%2CERR414263%2CSRR5279301\n",
      "Error occurred with run_ids: ERR414316%2CSRR1761702%2CERR525699%2CSRR5106489%2CERR527183%2CERR1307073%2CSRR1490973%2CSRR6179361%2CERR414263%2CSRR5279301. Error: {\"errors\":[{\"detail\":\"Select a valid choice. SRR5279301 is not one of the available choices.\",\"status\":\"400\",\"source\":{\"pointer\":\"/data/attributes/accession\"},\"code\":\"invalid_choice\"}]}\n",
      "https://www.ebi.ac.uk/metagenomics/api/v1/runs?accession=ERR1332607%2CERR982839%2CSRR5248299%2CERR982841%2CERR414398%2CERR1190648%2CERR1190735%2CERR525876%2CSRR4033073%2CERR1620298\n",
      "Error occurred with run_ids: ERR1332607%2CERR982839%2CSRR5248299%2CERR982841%2CERR414398%2CERR1190648%2CERR1190735%2CERR525876%2CSRR4033073%2CERR1620298. Error: {\"errors\":[{\"detail\":\"Select a valid choice. ERR1332607 is not one of the available choices.\",\"status\":\"400\",\"source\":{\"pointer\":\"/data/attributes/accession\"},\"code\":\"invalid_choice\"}]}\n",
      "https://www.ebi.ac.uk/metagenomics/api/v1/runs?accession=SRR769528%2CERR1018197%2CSRR2857969%2CDRR042383%2CSRR2857886%2CERR414471%2CERR260135%2CERR1719931%2CERR1474568%2CERR1681526\n",
      "Error occurred with run_ids: SRR769528%2CERR1018197%2CSRR2857969%2CDRR042383%2CSRR2857886%2CERR414471%2CERR260135%2CERR1719931%2CERR1474568%2CERR1681526. Error: {\"errors\":[{\"detail\":\"Select a valid choice. ERR1018197 is not one of the available choices.\",\"status\":\"400\",\"source\":{\"pointer\":\"/data/attributes/accession\"},\"code\":\"invalid_choice\"}]}\n",
      "https://www.ebi.ac.uk/metagenomics/api/v1/runs?accession=ERR982797%2CERR525815%2CERR209457%2CERR982819%2CSRR1821190%2CSRR5007460%2CERR982817%2CERR1659118%2CERR414410%2CERR414359\n"
     ]
    },
    {
     "ename": "KeyboardInterrupt",
     "evalue": "",
     "output_type": "error",
     "traceback": [
      "\u001b[0;31m---------------------------------------------------------------------------\u001b[0m",
      "\u001b[0;31mKeyboardInterrupt\u001b[0m                         Traceback (most recent call last)",
      "Cell \u001b[0;32mIn[48], line 19\u001b[0m\n\u001b[1;32m     17\u001b[0m run_ids_chunk \u001b[38;5;241m=\u001b[39m \u001b[38;5;124m\"\u001b[39m\u001b[38;5;124m%\u001b[39m\u001b[38;5;124m2C\u001b[39m\u001b[38;5;124m\"\u001b[39m\u001b[38;5;241m.\u001b[39mjoin(run_ids_chunk)\n\u001b[1;32m     18\u001b[0m \u001b[38;5;28mprint\u001b[39m(\u001b[38;5;124mf\u001b[39m\u001b[38;5;124m'\u001b[39m\u001b[38;5;124mhttps://www.ebi.ac.uk/metagenomics/api/v1/runs?accession=\u001b[39m\u001b[38;5;132;01m{\u001b[39;00mrun_ids_chunk\u001b[38;5;132;01m}\u001b[39;00m\u001b[38;5;124m'\u001b[39m)\n\u001b[0;32m---> 19\u001b[0m all_runs\u001b[38;5;241m.\u001b[39mextend(\u001b[43mget_run_endpoint\u001b[49m\u001b[43m(\u001b[49m\u001b[43mrun_ids_chunk\u001b[49m\u001b[43m)\u001b[49m)\n",
      "Cell \u001b[0;32mIn[48], line 5\u001b[0m, in \u001b[0;36mget_run_endpoint\u001b[0;34m(run_ids)\u001b[0m\n\u001b[1;32m      3\u001b[0m \u001b[38;5;28;01mdef\u001b[39;00m \u001b[38;5;21mget_run_endpoint\u001b[39m(run_ids):\n\u001b[1;32m      4\u001b[0m     url \u001b[38;5;241m=\u001b[39m \u001b[38;5;124mf\u001b[39m\u001b[38;5;124m'\u001b[39m\u001b[38;5;124mhttps://www.ebi.ac.uk/metagenomics/api/v1/runs?accession=\u001b[39m\u001b[38;5;132;01m{\u001b[39;00mrun_ids\u001b[38;5;132;01m}\u001b[39;00m\u001b[38;5;124m'\u001b[39m\n\u001b[0;32m----> 5\u001b[0m     response \u001b[38;5;241m=\u001b[39m \u001b[43mrequests\u001b[49m\u001b[38;5;241;43m.\u001b[39;49m\u001b[43mget\u001b[49m\u001b[43m(\u001b[49m\u001b[43murl\u001b[49m\u001b[43m)\u001b[49m\n\u001b[1;32m      6\u001b[0m     \u001b[38;5;28;01mif\u001b[39;00m response\u001b[38;5;241m.\u001b[39mstatus_code \u001b[38;5;241m!=\u001b[39m \u001b[38;5;241m200\u001b[39m:\n\u001b[1;32m      7\u001b[0m         \u001b[38;5;28mprint\u001b[39m(\u001b[38;5;124mf\u001b[39m\u001b[38;5;124m\"\u001b[39m\u001b[38;5;124mError occurred with run_ids: \u001b[39m\u001b[38;5;132;01m{\u001b[39;00mrun_ids\u001b[38;5;132;01m}\u001b[39;00m\u001b[38;5;124m. Error: \u001b[39m\u001b[38;5;132;01m{\u001b[39;00mresponse\u001b[38;5;241m.\u001b[39mtext\u001b[38;5;132;01m}\u001b[39;00m\u001b[38;5;124m\"\u001b[39m)\n",
      "File \u001b[0;32m/datadrive/apps/miniforge3/envs/mgnify_misc/lib/python3.11/site-packages/requests/api.py:73\u001b[0m, in \u001b[0;36mget\u001b[0;34m(url, params, **kwargs)\u001b[0m\n\u001b[1;32m     62\u001b[0m \u001b[38;5;28;01mdef\u001b[39;00m \u001b[38;5;21mget\u001b[39m(url, params\u001b[38;5;241m=\u001b[39m\u001b[38;5;28;01mNone\u001b[39;00m, \u001b[38;5;241m*\u001b[39m\u001b[38;5;241m*\u001b[39mkwargs):\n\u001b[1;32m     63\u001b[0m \u001b[38;5;250m    \u001b[39m\u001b[38;5;124mr\u001b[39m\u001b[38;5;124;03m\"\"\"Sends a GET request.\u001b[39;00m\n\u001b[1;32m     64\u001b[0m \n\u001b[1;32m     65\u001b[0m \u001b[38;5;124;03m    :param url: URL for the new :class:`Request` object.\u001b[39;00m\n\u001b[0;32m   (...)\u001b[0m\n\u001b[1;32m     70\u001b[0m \u001b[38;5;124;03m    :rtype: requests.Response\u001b[39;00m\n\u001b[1;32m     71\u001b[0m \u001b[38;5;124;03m    \"\"\"\u001b[39;00m\n\u001b[0;32m---> 73\u001b[0m     \u001b[38;5;28;01mreturn\u001b[39;00m \u001b[43mrequest\u001b[49m\u001b[43m(\u001b[49m\u001b[38;5;124;43m\"\u001b[39;49m\u001b[38;5;124;43mget\u001b[39;49m\u001b[38;5;124;43m\"\u001b[39;49m\u001b[43m,\u001b[49m\u001b[43m \u001b[49m\u001b[43murl\u001b[49m\u001b[43m,\u001b[49m\u001b[43m \u001b[49m\u001b[43mparams\u001b[49m\u001b[38;5;241;43m=\u001b[39;49m\u001b[43mparams\u001b[49m\u001b[43m,\u001b[49m\u001b[43m \u001b[49m\u001b[38;5;241;43m*\u001b[39;49m\u001b[38;5;241;43m*\u001b[39;49m\u001b[43mkwargs\u001b[49m\u001b[43m)\u001b[49m\n",
      "File \u001b[0;32m/datadrive/apps/miniforge3/envs/mgnify_misc/lib/python3.11/site-packages/requests/api.py:59\u001b[0m, in \u001b[0;36mrequest\u001b[0;34m(method, url, **kwargs)\u001b[0m\n\u001b[1;32m     55\u001b[0m \u001b[38;5;66;03m# By using the 'with' statement we are sure the session is closed, thus we\u001b[39;00m\n\u001b[1;32m     56\u001b[0m \u001b[38;5;66;03m# avoid leaving sockets open which can trigger a ResourceWarning in some\u001b[39;00m\n\u001b[1;32m     57\u001b[0m \u001b[38;5;66;03m# cases, and look like a memory leak in others.\u001b[39;00m\n\u001b[1;32m     58\u001b[0m \u001b[38;5;28;01mwith\u001b[39;00m sessions\u001b[38;5;241m.\u001b[39mSession() \u001b[38;5;28;01mas\u001b[39;00m session:\n\u001b[0;32m---> 59\u001b[0m     \u001b[38;5;28;01mreturn\u001b[39;00m \u001b[43msession\u001b[49m\u001b[38;5;241;43m.\u001b[39;49m\u001b[43mrequest\u001b[49m\u001b[43m(\u001b[49m\u001b[43mmethod\u001b[49m\u001b[38;5;241;43m=\u001b[39;49m\u001b[43mmethod\u001b[49m\u001b[43m,\u001b[49m\u001b[43m \u001b[49m\u001b[43murl\u001b[49m\u001b[38;5;241;43m=\u001b[39;49m\u001b[43murl\u001b[49m\u001b[43m,\u001b[49m\u001b[43m \u001b[49m\u001b[38;5;241;43m*\u001b[39;49m\u001b[38;5;241;43m*\u001b[39;49m\u001b[43mkwargs\u001b[49m\u001b[43m)\u001b[49m\n",
      "File \u001b[0;32m/datadrive/apps/miniforge3/envs/mgnify_misc/lib/python3.11/site-packages/requests/sessions.py:589\u001b[0m, in \u001b[0;36mSession.request\u001b[0;34m(self, method, url, params, data, headers, cookies, files, auth, timeout, allow_redirects, proxies, hooks, stream, verify, cert, json)\u001b[0m\n\u001b[1;32m    584\u001b[0m send_kwargs \u001b[38;5;241m=\u001b[39m {\n\u001b[1;32m    585\u001b[0m     \u001b[38;5;124m\"\u001b[39m\u001b[38;5;124mtimeout\u001b[39m\u001b[38;5;124m\"\u001b[39m: timeout,\n\u001b[1;32m    586\u001b[0m     \u001b[38;5;124m\"\u001b[39m\u001b[38;5;124mallow_redirects\u001b[39m\u001b[38;5;124m\"\u001b[39m: allow_redirects,\n\u001b[1;32m    587\u001b[0m }\n\u001b[1;32m    588\u001b[0m send_kwargs\u001b[38;5;241m.\u001b[39mupdate(settings)\n\u001b[0;32m--> 589\u001b[0m resp \u001b[38;5;241m=\u001b[39m \u001b[38;5;28;43mself\u001b[39;49m\u001b[38;5;241;43m.\u001b[39;49m\u001b[43msend\u001b[49m\u001b[43m(\u001b[49m\u001b[43mprep\u001b[49m\u001b[43m,\u001b[49m\u001b[43m \u001b[49m\u001b[38;5;241;43m*\u001b[39;49m\u001b[38;5;241;43m*\u001b[39;49m\u001b[43msend_kwargs\u001b[49m\u001b[43m)\u001b[49m\n\u001b[1;32m    591\u001b[0m \u001b[38;5;28;01mreturn\u001b[39;00m resp\n",
      "File \u001b[0;32m/datadrive/apps/miniforge3/envs/mgnify_misc/lib/python3.11/site-packages/requests/sessions.py:703\u001b[0m, in \u001b[0;36mSession.send\u001b[0;34m(self, request, **kwargs)\u001b[0m\n\u001b[1;32m    700\u001b[0m start \u001b[38;5;241m=\u001b[39m preferred_clock()\n\u001b[1;32m    702\u001b[0m \u001b[38;5;66;03m# Send the request\u001b[39;00m\n\u001b[0;32m--> 703\u001b[0m r \u001b[38;5;241m=\u001b[39m \u001b[43madapter\u001b[49m\u001b[38;5;241;43m.\u001b[39;49m\u001b[43msend\u001b[49m\u001b[43m(\u001b[49m\u001b[43mrequest\u001b[49m\u001b[43m,\u001b[49m\u001b[43m \u001b[49m\u001b[38;5;241;43m*\u001b[39;49m\u001b[38;5;241;43m*\u001b[39;49m\u001b[43mkwargs\u001b[49m\u001b[43m)\u001b[49m\n\u001b[1;32m    705\u001b[0m \u001b[38;5;66;03m# Total elapsed time of the request (approximately)\u001b[39;00m\n\u001b[1;32m    706\u001b[0m elapsed \u001b[38;5;241m=\u001b[39m preferred_clock() \u001b[38;5;241m-\u001b[39m start\n",
      "File \u001b[0;32m/datadrive/apps/miniforge3/envs/mgnify_misc/lib/python3.11/site-packages/requests/adapters.py:486\u001b[0m, in \u001b[0;36mHTTPAdapter.send\u001b[0;34m(self, request, stream, timeout, verify, cert, proxies)\u001b[0m\n\u001b[1;32m    483\u001b[0m     timeout \u001b[38;5;241m=\u001b[39m TimeoutSauce(connect\u001b[38;5;241m=\u001b[39mtimeout, read\u001b[38;5;241m=\u001b[39mtimeout)\n\u001b[1;32m    485\u001b[0m \u001b[38;5;28;01mtry\u001b[39;00m:\n\u001b[0;32m--> 486\u001b[0m     resp \u001b[38;5;241m=\u001b[39m \u001b[43mconn\u001b[49m\u001b[38;5;241;43m.\u001b[39;49m\u001b[43murlopen\u001b[49m\u001b[43m(\u001b[49m\n\u001b[1;32m    487\u001b[0m \u001b[43m        \u001b[49m\u001b[43mmethod\u001b[49m\u001b[38;5;241;43m=\u001b[39;49m\u001b[43mrequest\u001b[49m\u001b[38;5;241;43m.\u001b[39;49m\u001b[43mmethod\u001b[49m\u001b[43m,\u001b[49m\n\u001b[1;32m    488\u001b[0m \u001b[43m        \u001b[49m\u001b[43murl\u001b[49m\u001b[38;5;241;43m=\u001b[39;49m\u001b[43murl\u001b[49m\u001b[43m,\u001b[49m\n\u001b[1;32m    489\u001b[0m \u001b[43m        \u001b[49m\u001b[43mbody\u001b[49m\u001b[38;5;241;43m=\u001b[39;49m\u001b[43mrequest\u001b[49m\u001b[38;5;241;43m.\u001b[39;49m\u001b[43mbody\u001b[49m\u001b[43m,\u001b[49m\n\u001b[1;32m    490\u001b[0m \u001b[43m        \u001b[49m\u001b[43mheaders\u001b[49m\u001b[38;5;241;43m=\u001b[39;49m\u001b[43mrequest\u001b[49m\u001b[38;5;241;43m.\u001b[39;49m\u001b[43mheaders\u001b[49m\u001b[43m,\u001b[49m\n\u001b[1;32m    491\u001b[0m \u001b[43m        \u001b[49m\u001b[43mredirect\u001b[49m\u001b[38;5;241;43m=\u001b[39;49m\u001b[38;5;28;43;01mFalse\u001b[39;49;00m\u001b[43m,\u001b[49m\n\u001b[1;32m    492\u001b[0m \u001b[43m        \u001b[49m\u001b[43massert_same_host\u001b[49m\u001b[38;5;241;43m=\u001b[39;49m\u001b[38;5;28;43;01mFalse\u001b[39;49;00m\u001b[43m,\u001b[49m\n\u001b[1;32m    493\u001b[0m \u001b[43m        \u001b[49m\u001b[43mpreload_content\u001b[49m\u001b[38;5;241;43m=\u001b[39;49m\u001b[38;5;28;43;01mFalse\u001b[39;49;00m\u001b[43m,\u001b[49m\n\u001b[1;32m    494\u001b[0m \u001b[43m        \u001b[49m\u001b[43mdecode_content\u001b[49m\u001b[38;5;241;43m=\u001b[39;49m\u001b[38;5;28;43;01mFalse\u001b[39;49;00m\u001b[43m,\u001b[49m\n\u001b[1;32m    495\u001b[0m \u001b[43m        \u001b[49m\u001b[43mretries\u001b[49m\u001b[38;5;241;43m=\u001b[39;49m\u001b[38;5;28;43mself\u001b[39;49m\u001b[38;5;241;43m.\u001b[39;49m\u001b[43mmax_retries\u001b[49m\u001b[43m,\u001b[49m\n\u001b[1;32m    496\u001b[0m \u001b[43m        \u001b[49m\u001b[43mtimeout\u001b[49m\u001b[38;5;241;43m=\u001b[39;49m\u001b[43mtimeout\u001b[49m\u001b[43m,\u001b[49m\n\u001b[1;32m    497\u001b[0m \u001b[43m        \u001b[49m\u001b[43mchunked\u001b[49m\u001b[38;5;241;43m=\u001b[39;49m\u001b[43mchunked\u001b[49m\u001b[43m,\u001b[49m\n\u001b[1;32m    498\u001b[0m \u001b[43m    \u001b[49m\u001b[43m)\u001b[49m\n\u001b[1;32m    500\u001b[0m \u001b[38;5;28;01mexcept\u001b[39;00m (ProtocolError, \u001b[38;5;167;01mOSError\u001b[39;00m) \u001b[38;5;28;01mas\u001b[39;00m err:\n\u001b[1;32m    501\u001b[0m     \u001b[38;5;28;01mraise\u001b[39;00m \u001b[38;5;167;01mConnectionError\u001b[39;00m(err, request\u001b[38;5;241m=\u001b[39mrequest)\n",
      "File \u001b[0;32m/datadrive/apps/miniforge3/envs/mgnify_misc/lib/python3.11/site-packages/urllib3/connectionpool.py:793\u001b[0m, in \u001b[0;36mHTTPConnectionPool.urlopen\u001b[0;34m(self, method, url, body, headers, retries, redirect, assert_same_host, timeout, pool_timeout, release_conn, chunked, body_pos, preload_content, decode_content, **response_kw)\u001b[0m\n\u001b[1;32m    790\u001b[0m response_conn \u001b[38;5;241m=\u001b[39m conn \u001b[38;5;28;01mif\u001b[39;00m \u001b[38;5;129;01mnot\u001b[39;00m release_conn \u001b[38;5;28;01melse\u001b[39;00m \u001b[38;5;28;01mNone\u001b[39;00m\n\u001b[1;32m    792\u001b[0m \u001b[38;5;66;03m# Make the request on the HTTPConnection object\u001b[39;00m\n\u001b[0;32m--> 793\u001b[0m response \u001b[38;5;241m=\u001b[39m \u001b[38;5;28;43mself\u001b[39;49m\u001b[38;5;241;43m.\u001b[39;49m\u001b[43m_make_request\u001b[49m\u001b[43m(\u001b[49m\n\u001b[1;32m    794\u001b[0m \u001b[43m    \u001b[49m\u001b[43mconn\u001b[49m\u001b[43m,\u001b[49m\n\u001b[1;32m    795\u001b[0m \u001b[43m    \u001b[49m\u001b[43mmethod\u001b[49m\u001b[43m,\u001b[49m\n\u001b[1;32m    796\u001b[0m \u001b[43m    \u001b[49m\u001b[43murl\u001b[49m\u001b[43m,\u001b[49m\n\u001b[1;32m    797\u001b[0m \u001b[43m    \u001b[49m\u001b[43mtimeout\u001b[49m\u001b[38;5;241;43m=\u001b[39;49m\u001b[43mtimeout_obj\u001b[49m\u001b[43m,\u001b[49m\n\u001b[1;32m    798\u001b[0m \u001b[43m    \u001b[49m\u001b[43mbody\u001b[49m\u001b[38;5;241;43m=\u001b[39;49m\u001b[43mbody\u001b[49m\u001b[43m,\u001b[49m\n\u001b[1;32m    799\u001b[0m \u001b[43m    \u001b[49m\u001b[43mheaders\u001b[49m\u001b[38;5;241;43m=\u001b[39;49m\u001b[43mheaders\u001b[49m\u001b[43m,\u001b[49m\n\u001b[1;32m    800\u001b[0m \u001b[43m    \u001b[49m\u001b[43mchunked\u001b[49m\u001b[38;5;241;43m=\u001b[39;49m\u001b[43mchunked\u001b[49m\u001b[43m,\u001b[49m\n\u001b[1;32m    801\u001b[0m \u001b[43m    \u001b[49m\u001b[43mretries\u001b[49m\u001b[38;5;241;43m=\u001b[39;49m\u001b[43mretries\u001b[49m\u001b[43m,\u001b[49m\n\u001b[1;32m    802\u001b[0m \u001b[43m    \u001b[49m\u001b[43mresponse_conn\u001b[49m\u001b[38;5;241;43m=\u001b[39;49m\u001b[43mresponse_conn\u001b[49m\u001b[43m,\u001b[49m\n\u001b[1;32m    803\u001b[0m \u001b[43m    \u001b[49m\u001b[43mpreload_content\u001b[49m\u001b[38;5;241;43m=\u001b[39;49m\u001b[43mpreload_content\u001b[49m\u001b[43m,\u001b[49m\n\u001b[1;32m    804\u001b[0m \u001b[43m    \u001b[49m\u001b[43mdecode_content\u001b[49m\u001b[38;5;241;43m=\u001b[39;49m\u001b[43mdecode_content\u001b[49m\u001b[43m,\u001b[49m\n\u001b[1;32m    805\u001b[0m \u001b[43m    \u001b[49m\u001b[38;5;241;43m*\u001b[39;49m\u001b[38;5;241;43m*\u001b[39;49m\u001b[43mresponse_kw\u001b[49m\u001b[43m,\u001b[49m\n\u001b[1;32m    806\u001b[0m \u001b[43m\u001b[49m\u001b[43m)\u001b[49m\n\u001b[1;32m    808\u001b[0m \u001b[38;5;66;03m# Everything went great!\u001b[39;00m\n\u001b[1;32m    809\u001b[0m clean_exit \u001b[38;5;241m=\u001b[39m \u001b[38;5;28;01mTrue\u001b[39;00m\n",
      "File \u001b[0;32m/datadrive/apps/miniforge3/envs/mgnify_misc/lib/python3.11/site-packages/urllib3/connectionpool.py:537\u001b[0m, in \u001b[0;36mHTTPConnectionPool._make_request\u001b[0;34m(self, conn, method, url, body, headers, retries, timeout, chunked, response_conn, preload_content, decode_content, enforce_content_length)\u001b[0m\n\u001b[1;32m    535\u001b[0m \u001b[38;5;66;03m# Receive the response from the server\u001b[39;00m\n\u001b[1;32m    536\u001b[0m \u001b[38;5;28;01mtry\u001b[39;00m:\n\u001b[0;32m--> 537\u001b[0m     response \u001b[38;5;241m=\u001b[39m \u001b[43mconn\u001b[49m\u001b[38;5;241;43m.\u001b[39;49m\u001b[43mgetresponse\u001b[49m\u001b[43m(\u001b[49m\u001b[43m)\u001b[49m\n\u001b[1;32m    538\u001b[0m \u001b[38;5;28;01mexcept\u001b[39;00m (BaseSSLError, \u001b[38;5;167;01mOSError\u001b[39;00m) \u001b[38;5;28;01mas\u001b[39;00m e:\n\u001b[1;32m    539\u001b[0m     \u001b[38;5;28mself\u001b[39m\u001b[38;5;241m.\u001b[39m_raise_timeout(err\u001b[38;5;241m=\u001b[39me, url\u001b[38;5;241m=\u001b[39murl, timeout_value\u001b[38;5;241m=\u001b[39mread_timeout)\n",
      "File \u001b[0;32m/datadrive/apps/miniforge3/envs/mgnify_misc/lib/python3.11/site-packages/urllib3/connection.py:466\u001b[0m, in \u001b[0;36mHTTPConnection.getresponse\u001b[0;34m(self)\u001b[0m\n\u001b[1;32m    463\u001b[0m \u001b[38;5;28;01mfrom\u001b[39;00m \u001b[38;5;21;01m.\u001b[39;00m\u001b[38;5;21;01mresponse\u001b[39;00m \u001b[38;5;28;01mimport\u001b[39;00m HTTPResponse\n\u001b[1;32m    465\u001b[0m \u001b[38;5;66;03m# Get the response from http.client.HTTPConnection\u001b[39;00m\n\u001b[0;32m--> 466\u001b[0m httplib_response \u001b[38;5;241m=\u001b[39m \u001b[38;5;28;43msuper\u001b[39;49m\u001b[43m(\u001b[49m\u001b[43m)\u001b[49m\u001b[38;5;241;43m.\u001b[39;49m\u001b[43mgetresponse\u001b[49m\u001b[43m(\u001b[49m\u001b[43m)\u001b[49m\n\u001b[1;32m    468\u001b[0m \u001b[38;5;28;01mtry\u001b[39;00m:\n\u001b[1;32m    469\u001b[0m     assert_header_parsing(httplib_response\u001b[38;5;241m.\u001b[39mmsg)\n",
      "File \u001b[0;32m/datadrive/apps/miniforge3/envs/mgnify_misc/lib/python3.11/http/client.py:1395\u001b[0m, in \u001b[0;36mHTTPConnection.getresponse\u001b[0;34m(self)\u001b[0m\n\u001b[1;32m   1393\u001b[0m \u001b[38;5;28;01mtry\u001b[39;00m:\n\u001b[1;32m   1394\u001b[0m     \u001b[38;5;28;01mtry\u001b[39;00m:\n\u001b[0;32m-> 1395\u001b[0m         \u001b[43mresponse\u001b[49m\u001b[38;5;241;43m.\u001b[39;49m\u001b[43mbegin\u001b[49m\u001b[43m(\u001b[49m\u001b[43m)\u001b[49m\n\u001b[1;32m   1396\u001b[0m     \u001b[38;5;28;01mexcept\u001b[39;00m \u001b[38;5;167;01mConnectionError\u001b[39;00m:\n\u001b[1;32m   1397\u001b[0m         \u001b[38;5;28mself\u001b[39m\u001b[38;5;241m.\u001b[39mclose()\n",
      "File \u001b[0;32m/datadrive/apps/miniforge3/envs/mgnify_misc/lib/python3.11/http/client.py:325\u001b[0m, in \u001b[0;36mHTTPResponse.begin\u001b[0;34m(self)\u001b[0m\n\u001b[1;32m    323\u001b[0m \u001b[38;5;66;03m# read until we get a non-100 response\u001b[39;00m\n\u001b[1;32m    324\u001b[0m \u001b[38;5;28;01mwhile\u001b[39;00m \u001b[38;5;28;01mTrue\u001b[39;00m:\n\u001b[0;32m--> 325\u001b[0m     version, status, reason \u001b[38;5;241m=\u001b[39m \u001b[38;5;28;43mself\u001b[39;49m\u001b[38;5;241;43m.\u001b[39;49m\u001b[43m_read_status\u001b[49m\u001b[43m(\u001b[49m\u001b[43m)\u001b[49m\n\u001b[1;32m    326\u001b[0m     \u001b[38;5;28;01mif\u001b[39;00m status \u001b[38;5;241m!=\u001b[39m CONTINUE:\n\u001b[1;32m    327\u001b[0m         \u001b[38;5;28;01mbreak\u001b[39;00m\n",
      "File \u001b[0;32m/datadrive/apps/miniforge3/envs/mgnify_misc/lib/python3.11/http/client.py:286\u001b[0m, in \u001b[0;36mHTTPResponse._read_status\u001b[0;34m(self)\u001b[0m\n\u001b[1;32m    285\u001b[0m \u001b[38;5;28;01mdef\u001b[39;00m \u001b[38;5;21m_read_status\u001b[39m(\u001b[38;5;28mself\u001b[39m):\n\u001b[0;32m--> 286\u001b[0m     line \u001b[38;5;241m=\u001b[39m \u001b[38;5;28mstr\u001b[39m(\u001b[38;5;28mself\u001b[39m\u001b[38;5;241m.\u001b[39mfp\u001b[38;5;241m.\u001b[39mreadline(_MAXLINE \u001b[38;5;241m+\u001b[39m \u001b[38;5;241m1\u001b[39m), \u001b[38;5;124m\"\u001b[39m\u001b[38;5;124miso-8859-1\u001b[39m\u001b[38;5;124m\"\u001b[39m)\n\u001b[1;32m    287\u001b[0m     \u001b[38;5;28;01mif\u001b[39;00m \u001b[38;5;28mlen\u001b[39m(line) \u001b[38;5;241m>\u001b[39m _MAXLINE:\n\u001b[1;32m    288\u001b[0m         \u001b[38;5;28;01mraise\u001b[39;00m LineTooLong(\u001b[38;5;124m\"\u001b[39m\u001b[38;5;124mstatus line\u001b[39m\u001b[38;5;124m\"\u001b[39m)\n",
      "File \u001b[0;32m/datadrive/apps/miniforge3/envs/mgnify_misc/lib/python3.11/socket.py:706\u001b[0m, in \u001b[0;36mSocketIO.readinto\u001b[0;34m(self, b)\u001b[0m\n\u001b[1;32m    704\u001b[0m \u001b[38;5;28;01mwhile\u001b[39;00m \u001b[38;5;28;01mTrue\u001b[39;00m:\n\u001b[1;32m    705\u001b[0m     \u001b[38;5;28;01mtry\u001b[39;00m:\n\u001b[0;32m--> 706\u001b[0m         \u001b[38;5;28;01mreturn\u001b[39;00m \u001b[38;5;28;43mself\u001b[39;49m\u001b[38;5;241;43m.\u001b[39;49m\u001b[43m_sock\u001b[49m\u001b[38;5;241;43m.\u001b[39;49m\u001b[43mrecv_into\u001b[49m\u001b[43m(\u001b[49m\u001b[43mb\u001b[49m\u001b[43m)\u001b[49m\n\u001b[1;32m    707\u001b[0m     \u001b[38;5;28;01mexcept\u001b[39;00m timeout:\n\u001b[1;32m    708\u001b[0m         \u001b[38;5;28mself\u001b[39m\u001b[38;5;241m.\u001b[39m_timeout_occurred \u001b[38;5;241m=\u001b[39m \u001b[38;5;28;01mTrue\u001b[39;00m\n",
      "File \u001b[0;32m/datadrive/apps/miniforge3/envs/mgnify_misc/lib/python3.11/ssl.py:1314\u001b[0m, in \u001b[0;36mSSLSocket.recv_into\u001b[0;34m(self, buffer, nbytes, flags)\u001b[0m\n\u001b[1;32m   1310\u001b[0m     \u001b[38;5;28;01mif\u001b[39;00m flags \u001b[38;5;241m!=\u001b[39m \u001b[38;5;241m0\u001b[39m:\n\u001b[1;32m   1311\u001b[0m         \u001b[38;5;28;01mraise\u001b[39;00m \u001b[38;5;167;01mValueError\u001b[39;00m(\n\u001b[1;32m   1312\u001b[0m           \u001b[38;5;124m\"\u001b[39m\u001b[38;5;124mnon-zero flags not allowed in calls to recv_into() on \u001b[39m\u001b[38;5;132;01m%s\u001b[39;00m\u001b[38;5;124m\"\u001b[39m \u001b[38;5;241m%\u001b[39m\n\u001b[1;32m   1313\u001b[0m           \u001b[38;5;28mself\u001b[39m\u001b[38;5;241m.\u001b[39m\u001b[38;5;18m__class__\u001b[39m)\n\u001b[0;32m-> 1314\u001b[0m     \u001b[38;5;28;01mreturn\u001b[39;00m \u001b[38;5;28;43mself\u001b[39;49m\u001b[38;5;241;43m.\u001b[39;49m\u001b[43mread\u001b[49m\u001b[43m(\u001b[49m\u001b[43mnbytes\u001b[49m\u001b[43m,\u001b[49m\u001b[43m \u001b[49m\u001b[43mbuffer\u001b[49m\u001b[43m)\u001b[49m\n\u001b[1;32m   1315\u001b[0m \u001b[38;5;28;01melse\u001b[39;00m:\n\u001b[1;32m   1316\u001b[0m     \u001b[38;5;28;01mreturn\u001b[39;00m \u001b[38;5;28msuper\u001b[39m()\u001b[38;5;241m.\u001b[39mrecv_into(buffer, nbytes, flags)\n",
      "File \u001b[0;32m/datadrive/apps/miniforge3/envs/mgnify_misc/lib/python3.11/ssl.py:1166\u001b[0m, in \u001b[0;36mSSLSocket.read\u001b[0;34m(self, len, buffer)\u001b[0m\n\u001b[1;32m   1164\u001b[0m \u001b[38;5;28;01mtry\u001b[39;00m:\n\u001b[1;32m   1165\u001b[0m     \u001b[38;5;28;01mif\u001b[39;00m buffer \u001b[38;5;129;01mis\u001b[39;00m \u001b[38;5;129;01mnot\u001b[39;00m \u001b[38;5;28;01mNone\u001b[39;00m:\n\u001b[0;32m-> 1166\u001b[0m         \u001b[38;5;28;01mreturn\u001b[39;00m \u001b[38;5;28;43mself\u001b[39;49m\u001b[38;5;241;43m.\u001b[39;49m\u001b[43m_sslobj\u001b[49m\u001b[38;5;241;43m.\u001b[39;49m\u001b[43mread\u001b[49m\u001b[43m(\u001b[49m\u001b[38;5;28;43mlen\u001b[39;49m\u001b[43m,\u001b[49m\u001b[43m \u001b[49m\u001b[43mbuffer\u001b[49m\u001b[43m)\u001b[49m\n\u001b[1;32m   1167\u001b[0m     \u001b[38;5;28;01melse\u001b[39;00m:\n\u001b[1;32m   1168\u001b[0m         \u001b[38;5;28;01mreturn\u001b[39;00m \u001b[38;5;28mself\u001b[39m\u001b[38;5;241m.\u001b[39m_sslobj\u001b[38;5;241m.\u001b[39mread(\u001b[38;5;28mlen\u001b[39m)\n",
      "\u001b[0;31mKeyboardInterrupt\u001b[0m: "
     ]
    }
   ],
   "source": [
    "import requests\n",
    "\n",
    "def get_run_endpoint(run_ids):\n",
    "    url = f'https://www.ebi.ac.uk/metagenomics/api/v1/runs?accession={run_ids}'\n",
    "    response = requests.get(url)\n",
    "    if response.status_code != 200:\n",
    "        print(f\"Error occurred with run_ids: {run_ids}. Error: {response.text}\")\n",
    "        return []\n",
    "    else:\n",
    "        return response.json()\n",
    "\n",
    "run_ids = df_hits_metadata[df_hits_metadata.hit_type == \"runs\"].accession.unique()\n",
    "\n",
    "# Split run_ids into chunks of 100 and get runs for each chunk\n",
    "all_runs = []\n",
    "for run_ids_chunk in chunks(run_ids, 10):\n",
    "    run_ids_chunk = \"%2C\".join(run_ids_chunk)\n",
    "    print(f'https://www.ebi.ac.uk/metagenomics/api/v1/runs?accession={run_ids_chunk}')\n",
    "    all_runs.extend(get_run_endpoint(run_ids_chunk))"
   ]
  },
  {
   "cell_type": "code",
   "execution_count": null,
   "id": "8fbb6722-0f55-48f2-81eb-1274da03f32b",
   "metadata": {},
   "outputs": [],
   "source": [
    "len(df_hits_metadata[df_hits_metadata.hit_type == \"runs\"].accession.unique())"
   ]
  },
  {
   "cell_type": "code",
   "execution_count": null,
   "id": "9cd86838-0c5b-4c5b-a8ca-3016b460e2a1",
   "metadata": {},
   "outputs": [],
   "source": [
    "study_endpoint = \"studies/MGYS00006613\"\n",
    "with Session(\"https://www.ebi.ac.uk/metagenomics/api/v1\") as mgnify:\n",
    "    study = map(lambda r: r.json, mgnify.iterate(study_endpoint))\n",
    "    study = pd.json_normalize(study)\n",
    "\n",
    "study"
   ]
  },
  {
   "cell_type": "code",
   "execution_count": 42,
   "id": "0b3bb484",
   "metadata": {},
   "outputs": [],
   "source": [
    "import jsonapi_client"
   ]
  },
  {
   "cell_type": "code",
   "execution_count": null,
   "id": "561e67d2-6497-4570-b653-baf150916210",
   "metadata": {},
   "outputs": [],
   "source": []
  }
 ],
 "metadata": {
  "kernelspec": {
   "display_name": "Python 3 (ipykernel)",
   "language": "python",
   "name": "python3"
  },
  "language_info": {
   "codemirror_mode": {
    "name": "ipython",
    "version": 3
   },
   "file_extension": ".py",
   "mimetype": "text/x-python",
   "name": "python",
   "nbconvert_exporter": "python",
   "pygments_lexer": "ipython3",
   "version": "3.11.9"
  }
 },
 "nbformat": 4,
 "nbformat_minor": 5
}
